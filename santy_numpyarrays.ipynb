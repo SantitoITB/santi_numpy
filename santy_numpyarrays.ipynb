{
 "cells": [
  {
   "attachments": {},
   "cell_type": "markdown",
   "metadata": {},
   "source": [
    "# EXERCICIS OPERACIONS AMB NUMPY"
   ]
  },
  {
   "cell_type": "code",
   "execution_count": 367,
   "metadata": {},
   "outputs": [
    {
     "data": {
      "text/plain": [
       "'1.24.1'"
      ]
     },
     "execution_count": 367,
     "metadata": {},
     "output_type": "execute_result"
    }
   ],
   "source": [
    "import numpy as np\n",
    "np.__version__  "
   ]
  },
  {
   "attachments": {},
   "cell_type": "markdown",
   "metadata": {},
   "source": [
    "## 1- Genera un array que contingui 25 elements entre 0 i 99 seguint una distribució lineal."
   ]
  },
  {
   "cell_type": "code",
   "execution_count": 368,
   "metadata": {},
   "outputs": [],
   "source": [
    "array = np.linspace(0, 99, 25)"
   ]
  },
  {
   "attachments": {},
   "cell_type": "markdown",
   "metadata": {},
   "source": [
    "### Després, transforma aquest matriu en una matriu de 5 x 5."
   ]
  },
  {
   "cell_type": "code",
   "execution_count": 369,
   "metadata": {},
   "outputs": [
    {
     "name": "stdout",
     "output_type": "stream",
     "text": [
      "[[ 0.     4.125  8.25  12.375 16.5  ]\n",
      " [20.625 24.75  28.875 33.    37.125]\n",
      " [41.25  45.375 49.5   53.625 57.75 ]\n",
      " [61.875 66.    70.125 74.25  78.375]\n",
      " [82.5   86.625 90.75  94.875 99.   ]]\n"
     ]
    }
   ],
   "source": [
    "array = array.reshape(5, 5)\n",
    "print(array)"
   ]
  },
  {
   "attachments": {},
   "cell_type": "markdown",
   "metadata": {},
   "source": [
    "### Quina és la diagonal de la matriu?"
   ]
  },
  {
   "cell_type": "code",
   "execution_count": 370,
   "metadata": {},
   "outputs": [
    {
     "name": "stdout",
     "output_type": "stream",
     "text": [
      "[ 0.   24.75 49.5  74.25 99.  ]\n"
     ]
    }
   ],
   "source": [
    "print(array.diagonal())"
   ]
  },
  {
   "attachments": {},
   "cell_type": "markdown",
   "metadata": {},
   "source": [
    "### I la diagonal just superior?"
   ]
  },
  {
   "cell_type": "code",
   "execution_count": 371,
   "metadata": {},
   "outputs": [
    {
     "name": "stdout",
     "output_type": "stream",
     "text": [
      "[ 4.125 28.875 53.625 78.375]\n"
     ]
    }
   ],
   "source": [
    "print(array.diagonal(offset=1))"
   ]
  },
  {
   "attachments": {},
   "cell_type": "markdown",
   "metadata": {},
   "source": [
    "## 2- Crea un array de 5 x 4 amb el valor repetit 5."
   ]
  },
  {
   "cell_type": "code",
   "execution_count": 372,
   "metadata": {},
   "outputs": [],
   "source": [
    "other = np.full((4,5),5)"
   ]
  },
  {
   "attachments": {},
   "cell_type": "markdown",
   "metadata": {},
   "source": [
    "### Uneix aquesta matriu a la matriu de l'exercici anterior per aconseguir dues noves matrius, una de 5 x 9"
   ]
  },
  {
   "cell_type": "code",
   "execution_count": 373,
   "metadata": {},
   "outputs": [
    {
     "name": "stdout",
     "output_type": "stream",
     "text": [
      "[[ 0.     4.125  8.25  12.375 16.5  ]\n",
      " [20.625 24.75  28.875 33.    37.125]\n",
      " [41.25  45.375 49.5   53.625 57.75 ]\n",
      " [61.875 66.    70.125 74.25  78.375]\n",
      " [82.5   86.625 90.75  94.875 99.   ]\n",
      " [ 5.     5.     5.     5.     5.   ]\n",
      " [ 5.     5.     5.     5.     5.   ]\n",
      " [ 5.     5.     5.     5.     5.   ]\n",
      " [ 5.     5.     5.     5.     5.   ]]\n"
     ]
    }
   ],
   "source": [
    "print(np.concatenate((array,other),axis=0))"
   ]
  },
  {
   "attachments": {},
   "cell_type": "markdown",
   "metadata": {},
   "source": [
    "### i una altra de 9 x 5."
   ]
  },
  {
   "cell_type": "code",
   "execution_count": 374,
   "metadata": {},
   "outputs": [],
   "source": [
    "other = np.full((5,4),5)"
   ]
  },
  {
   "cell_type": "code",
   "execution_count": 375,
   "metadata": {},
   "outputs": [
    {
     "name": "stdout",
     "output_type": "stream",
     "text": [
      "[[ 0.     4.125  8.25  12.375 16.5    5.     5.     5.     5.   ]\n",
      " [20.625 24.75  28.875 33.    37.125  5.     5.     5.     5.   ]\n",
      " [41.25  45.375 49.5   53.625 57.75   5.     5.     5.     5.   ]\n",
      " [61.875 66.    70.125 74.25  78.375  5.     5.     5.     5.   ]\n",
      " [82.5   86.625 90.75  94.875 99.     5.     5.     5.     5.   ]]\n"
     ]
    }
   ],
   "source": [
    "print(np.concatenate((array,other),axis=1))"
   ]
  },
  {
   "attachments": {},
   "cell_type": "markdown",
   "metadata": {},
   "source": [
    "## 3- Tenint l'array inicial que podeu veure emmarcat, heu de realitzar les operacions necessàries per obtenir l'array: array(['Aquesta', 'Classe', 'De', 'DAM', 'Intel·ligents'], dtype='<U12')"
   ]
  },
  {
   "cell_type": "code",
   "execution_count": 376,
   "metadata": {},
   "outputs": [],
   "source": [
    "initial = np.array(['     aquesta classe és de dam intel·ligents    '])"
   ]
  },
  {
   "cell_type": "code",
   "execution_count": 377,
   "metadata": {},
   "outputs": [
    {
     "name": "stdout",
     "output_type": "stream",
     "text": [
      "['Aquesta' 'Classe' 'És' 'De' 'Dam' 'Intel·ligents']\n"
     ]
    }
   ],
   "source": [
    "initial = np.char.capitalize(np.array([x.strip() for x in initial[0].split()]))\n",
    "print(initial)"
   ]
  },
  {
   "attachments": {},
   "cell_type": "markdown",
   "metadata": {},
   "source": [
    "### Quins elements de l'array comencen per 'D'?"
   ]
  },
  {
   "cell_type": "code",
   "execution_count": 378,
   "metadata": {},
   "outputs": [
    {
     "name": "stdout",
     "output_type": "stream",
     "text": [
      "[False False False  True  True False]\n"
     ]
    }
   ],
   "source": [
    "initial = np.char.startswith(initial, 'D')\n",
    "print(initial)"
   ]
  },
  {
   "attachments": {},
   "cell_type": "markdown",
   "metadata": {},
   "source": [
    "## 4- Donades dues matrius A i B\n",
    "        [ 3 1 2 ]   \n",
    "    A = [ 4 1 3 ] \n",
    "        [ 2 0 1 ] \n",
    "\n",
    "        [ 2 0 3 ]   \n",
    "    B = [ 1 1 1 ] \n",
    "        [ 0 2 4 ] "
   ]
  },
  {
   "cell_type": "code",
   "execution_count": 379,
   "metadata": {},
   "outputs": [],
   "source": [
    "A = np.array([[3, 1, 2], [4, 1, 3], [2, 0, 1]])\n",
    "B = np.array([[2, 0, 3], [1, 1, 1], [0, 2, 4]])"
   ]
  },
  {
   "attachments": {},
   "cell_type": "markdown",
   "metadata": {},
   "source": [
    "### Realitza la multiplicació matricial de AxB i BxA. Són iguals? "
   ]
  },
  {
   "cell_type": "code",
   "execution_count": 380,
   "metadata": {},
   "outputs": [
    {
     "name": "stdout",
     "output_type": "stream",
     "text": [
      "[[ 7  5 18]\n",
      " [ 9  7 25]\n",
      " [ 4  2 10]]\n",
      "[[12  2  7]\n",
      " [ 9  2  6]\n",
      " [16  2 10]]\n",
      "[[False False False]\n",
      " [False False False]\n",
      " [False False False]]\n"
     ]
    }
   ],
   "source": [
    "print(A.dot(B))\n",
    "print(B.dot(A))\n",
    "print(A.dot(A) == B.dot(B))"
   ]
  },
  {
   "attachments": {},
   "cell_type": "markdown",
   "metadata": {},
   "source": [
    "### Realitza la multiplicació de la matriu A x 2"
   ]
  },
  {
   "cell_type": "code",
   "execution_count": 381,
   "metadata": {},
   "outputs": [
    {
     "name": "stdout",
     "output_type": "stream",
     "text": [
      "[[6 2 4]\n",
      " [8 2 6]\n",
      " [4 0 2]]\n"
     ]
    }
   ],
   "source": [
    "print(A*2)"
   ]
  },
  {
   "attachments": {},
   "cell_type": "markdown",
   "metadata": {},
   "source": [
    "### Quan és la multiplicació escalar d'AxB? i de BxA? Són iguals?"
   ]
  },
  {
   "cell_type": "code",
   "execution_count": 382,
   "metadata": {},
   "outputs": [
    {
     "name": "stdout",
     "output_type": "stream",
     "text": [
      "24\n",
      "24\n",
      "True\n"
     ]
    }
   ],
   "source": [
    "print(np.sum(A*B))\n",
    "print(np.sum(B*A))\n",
    "print(np.sum(A*B) == np.sum(B*A))"
   ]
  },
  {
   "attachments": {},
   "cell_type": "markdown",
   "metadata": {},
   "source": [
    "## 5- Usant la matriu A de l'exercici anterior, calcula:"
   ]
  },
  {
   "attachments": {},
   "cell_type": "markdown",
   "metadata": {},
   "source": [
    "### A^3"
   ]
  },
  {
   "cell_type": "code",
   "execution_count": 383,
   "metadata": {},
   "outputs": [
    {
     "name": "stdout",
     "output_type": "stream",
     "text": [
      "[[ 89  21  57]\n",
      " [114  27  73]\n",
      " [ 42  10  27]]\n"
     ]
    }
   ],
   "source": [
    "print(A.dot(A.dot(A)))"
   ]
  },
  {
   "attachments": {},
   "cell_type": "markdown",
   "metadata": {},
   "source": [
    "### El determinant d'A"
   ]
  },
  {
   "cell_type": "code",
   "execution_count": 384,
   "metadata": {},
   "outputs": [
    {
     "name": "stdout",
     "output_type": "stream",
     "text": [
      "1.0\n"
     ]
    }
   ],
   "source": [
    "print(np.linalg.det(A))"
   ]
  },
  {
   "attachments": {},
   "cell_type": "markdown",
   "metadata": {},
   "source": [
    "### Resol l'equació Ax = y, essent *y* l'array [3,2,5]"
   ]
  },
  {
   "cell_type": "code",
   "execution_count": 385,
   "metadata": {},
   "outputs": [
    {
     "name": "stdout",
     "output_type": "stream",
     "text": [
      "[ 6. -1. -7.]\n"
     ]
    }
   ],
   "source": [
    "y = np.array([3, 2, 5])\n",
    "print(np.linalg.solve(A, y))"
   ]
  }
 ],
 "metadata": {
  "kernelspec": {
   "display_name": "Python 3",
   "language": "python",
   "name": "python3"
  },
  "language_info": {
   "codemirror_mode": {
    "name": "ipython",
    "version": 3
   },
   "file_extension": ".py",
   "mimetype": "text/x-python",
   "name": "python",
   "nbconvert_exporter": "python",
   "pygments_lexer": "ipython3",
   "version": "3.10.4"
  },
  "orig_nbformat": 4,
  "vscode": {
   "interpreter": {
    "hash": "3ad933181bd8a04b432d3370b9dc3b0662ad032c4dfaa4e4f1596c548f763858"
   }
  }
 },
 "nbformat": 4,
 "nbformat_minor": 2
}
