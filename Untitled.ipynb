{
 "cells": [
  {
   "cell_type": "markdown",
   "id": "30cbd2d5-e498-4cf5-ad45-51e5c2e50011",
   "metadata": {},
   "source": [
    "# Exercicis intro Numpy"
   ]
  },
  {
   "cell_type": "code",
   "execution_count": 1,
   "id": "14e5ab77-5d9a-4cbf-9392-001d9d780283",
   "metadata": {},
   "outputs": [],
   "source": [
    "import numpy as np"
   ]
  },
  {
   "cell_type": "markdown",
   "id": "6e02352e-5dab-4388-9596-1007d7523633",
   "metadata": {},
   "source": [
    "## 1- Crea 3 nous arrays"
   ]
  },
  {
   "cell_type": "markdown",
   "id": "a69cd2bc-accb-4d45-a59b-9d6891a422ba",
   "metadata": {},
   "source": [
    "> ***Array de tipus sencer, que contingui només els números imparells de l'1 al 100.console and print it in reverse order.***\n",
    "\n",
    "> ***Array de tipus cadena amb el teu nom i cognoms***\n",
    "\n",
    "> ***Array de tipus dates, que contingui cada dia des del 01Gener2023 al 04Febrer2023***"
   ]
  },
  {
   "cell_type": "code",
   "execution_count": 3,
   "id": "848817b7-7c8d-430b-ac9e-afc22dc99eff",
   "metadata": {},
   "outputs": [
    {
     "data": {
      "text/plain": [
       "(1, 6)"
      ]
     },
     "execution_count": 3,
     "metadata": {},
     "output_type": "execute_result"
    }
   ],
   "source": []
  },
  {
   "cell_type": "code",
   "execution_count": null,
   "id": "bb2f6f44-48d1-4566-95fe-6a4701119f28",
   "metadata": {},
   "outputs": [],
   "source": []
  }
 ],
 "metadata": {
  "kernelspec": {
   "display_name": "Python 3 (ipykernel)",
   "language": "python",
   "name": "python3"
  },
  "language_info": {
   "codemirror_mode": {
    "name": "ipython",
    "version": 3
   },
   "file_extension": ".py",
   "mimetype": "text/x-python",
   "name": "python",
   "nbconvert_exporter": "python",
   "pygments_lexer": "ipython3",
   "version": "3.10.4"
  }
 },
 "nbformat": 4,
 "nbformat_minor": 5
}
