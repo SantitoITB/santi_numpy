{
 "cells": [
  {
   "cell_type": "markdown",
   "id": "30cbd2d5-e498-4cf5-ad45-51e5c2e50011",
   "metadata": {},
   "source": [
    "# Exercicis intro Numpy"
   ]
  },
  {
   "cell_type": "code",
   "execution_count": 111,
   "id": "14e5ab77-5d9a-4cbf-9392-001d9d780283",
   "metadata": {},
   "outputs": [
    {
     "data": {
      "text/plain": [
       "'1.24.0'"
      ]
     },
     "execution_count": 111,
     "metadata": {},
     "output_type": "execute_result"
    }
   ],
   "source": [
    "import numpy as np\n",
    "np.__version__  "
   ]
  },
  {
   "cell_type": "markdown",
   "id": "6e02352e-5dab-4388-9596-1007d7523633",
   "metadata": {},
   "source": [
    "## 1- Crea 3 nous arrays"
   ]
  },
  {
   "cell_type": "markdown",
   "id": "a69cd2bc-accb-4d45-a59b-9d6891a422ba",
   "metadata": {},
   "source": [
    "> ***Array de tipus sencer, que contingui només els números imparells de l'1 al 100.console and print it in reverse order.***"
   ]
  },
  {
   "cell_type": "code",
   "execution_count": 112,
   "id": "aec1e970",
   "metadata": {},
   "outputs": [
    {
     "name": "stdout",
     "output_type": "stream",
     "text": [
      "[99 97 95 93 91 89 87 85 83 81 79 77 75 73 71 69 67 65 63 61 59 57 55 53\n",
      " 51 49 47 45 43 41 39 37 35 33 31 29 27 25 23 21 19 17 15 13 11  9  7  5\n",
      "  3  1]\n"
     ]
    }
   ],
   "source": [
    "reversed = np.arange(1,100,2)\n",
    "print(reversed[::-1])"
   ]
  },
  {
   "cell_type": "markdown",
   "id": "2608aa60",
   "metadata": {},
   "source": [
    "> ***Array de tipus cadena amb el teu nom i cognoms***"
   ]
  },
  {
   "cell_type": "code",
   "execution_count": 113,
   "id": "848817b7-7c8d-430b-ac9e-afc22dc99eff",
   "metadata": {},
   "outputs": [
    {
     "name": "stdout",
     "output_type": "stream",
     "text": [
      "['Sai' 'Kumar']\n"
     ]
    }
   ],
   "source": [
    "myName = np.array(['Santi','Guzman'])\n",
    "print(myName)"
   ]
  },
  {
   "cell_type": "markdown",
   "id": "28ed89d1",
   "metadata": {},
   "source": [
    "> ***Array de tipus dates, que contingui cada dia des del 01Gener2023 al 04Febrer2023***"
   ]
  },
  {
   "cell_type": "code",
   "execution_count": 114,
   "id": "bb2f6f44-48d1-4566-95fe-6a4701119f28",
   "metadata": {},
   "outputs": [
    {
     "name": "stdout",
     "output_type": "stream",
     "text": [
      "['2023-01-01' '2023-01-02' '2023-01-03' '2023-01-04' '2023-01-05'\n",
      " '2023-01-06' '2023-01-07' '2023-01-08' '2023-01-09' '2023-01-10'\n",
      " '2023-01-11' '2023-01-12' '2023-01-13' '2023-01-14' '2023-01-15'\n",
      " '2023-01-16' '2023-01-17' '2023-01-18' '2023-01-19' '2023-01-20'\n",
      " '2023-01-21' '2023-01-22' '2023-01-23' '2023-01-24' '2023-01-25'\n",
      " '2023-01-26' '2023-01-27' '2023-01-28' '2023-01-29' '2023-01-30'\n",
      " '2023-01-31' '2023-02-01' '2023-02-02' '2023-02-03']\n"
     ]
    }
   ],
   "source": [
    "dates = np.arange('2023-01-01','2023-02-04',dtype='datetime64[D]')\n",
    "print(dates)"
   ]
  },
  {
   "cell_type": "markdown",
   "id": "f862bb9b",
   "metadata": {},
   "source": [
    "## 2- Recupera els últims 10 elements de l'array d’imparells (recuperar els marcats)"
   ]
  },
  {
   "cell_type": "code",
   "execution_count": 115,
   "id": "11b511db",
   "metadata": {},
   "outputs": [
    {
     "name": "stdout",
     "output_type": "stream",
     "text": [
      "[81 83 85 87 89 91 93 95 97 99]\n"
     ]
    }
   ],
   "source": [
    "lastTen = np.arange(1,100,2)\n",
    "print(lastTen[-10:])"
   ]
  },
  {
   "cell_type": "markdown",
   "id": "071ca41f",
   "metadata": {},
   "source": [
    "## 3- Recorrer un Array de dates, i genera un nou numpy array que contingui únicament els dies laborals"
   ]
  },
  {
   "cell_type": "code",
   "execution_count": 116,
   "id": "180e7427",
   "metadata": {},
   "outputs": [
    {
     "name": "stdout",
     "output_type": "stream",
     "text": [
      "['2023-01-02' '2023-01-03' '2023-01-04' '2023-01-05' '2023-01-06'\n",
      " '2023-01-09' '2023-01-10' '2023-01-11' '2023-01-12' '2023-01-13'\n",
      " '2023-01-16' '2023-01-17' '2023-01-18' '2023-01-19' '2023-01-20'\n",
      " '2023-01-23' '2023-01-24' '2023-01-25' '2023-01-26' '2023-01-27'\n",
      " '2023-01-30' '2023-01-31' '2023-02-01' '2023-02-02' '2023-02-03']\n"
     ]
    }
   ],
   "source": [
    "workingDays = np.is_busday(dates)\n",
    "print(dates[workingDays])"
   ]
  },
  {
   "cell_type": "markdown",
   "id": "3d66b420",
   "metadata": {},
   "source": [
    "## 4- Genera la següent matriu:\n",
    "        [ 10 1 8  4 ]   \n",
    "    A = [ 3  7 2  1 ] \n",
    "        [ 0  2 20 12 ] \n",
    "\n",
    "- De quin tipus és? Integers\n"
   ]
  },
  {
   "cell_type": "code",
   "execution_count": 117,
   "id": "c3671dc1",
   "metadata": {},
   "outputs": [],
   "source": [
    "matrix = np.array([[10, 1, 8, 4], [3, 7, 2, 1], [0, 2, 20, 12]])"
   ]
  },
  {
   "cell_type": "markdown",
   "id": "b6dd06c4",
   "metadata": {},
   "source": [
    "> ***Després, implementa una màscara a tots els números de la matriu majors o iguals a 10***"
   ]
  },
  {
   "cell_type": "code",
   "execution_count": 118,
   "id": "f7672079",
   "metadata": {},
   "outputs": [
    {
     "name": "stdout",
     "output_type": "stream",
     "text": [
      "[[ True False False False]\n",
      " [False False False False]\n",
      " [False False  True  True]]\n"
     ]
    }
   ],
   "source": [
    "mask = matrix >= 10\n",
    "print(mask)"
   ]
  },
  {
   "cell_type": "markdown",
   "id": "29a1b695",
   "metadata": {},
   "source": [
    "## 5- Crea dues dates, la primera serà la data de naixement, i la segona, la d'un familiar o amic teu."
   ]
  },
  {
   "cell_type": "code",
   "execution_count": 119,
   "id": "97a48f49",
   "metadata": {},
   "outputs": [],
   "source": [
    "dateSanti = np.datetime64('2003-08-08')\n",
    "dateDavid = np.datetime64('2002-04-16')"
   ]
  },
  {
   "cell_type": "markdown",
   "id": "5c73747d",
   "metadata": {},
   "source": [
    "> ***Quina diferència en hores hi ha entre les dues dates?***"
   ]
  },
  {
   "cell_type": "code",
   "execution_count": 120,
   "id": "78059512",
   "metadata": {},
   "outputs": [
    {
     "name": "stdout",
     "output_type": "stream",
     "text": [
      "11496 hours\n"
     ]
    }
   ],
   "source": [
    "print(np.timedelta64(dateSanti-dateDavid,'h'))"
   ]
  },
  {
   "cell_type": "markdown",
   "id": "a31629b6",
   "metadata": {},
   "source": [
    "> ***Quina seria la teva data de naixement si haguessis nascut 236 hores abans?***"
   ]
  },
  {
   "cell_type": "code",
   "execution_count": 121,
   "id": "6f1b5b13",
   "metadata": {},
   "outputs": [
    {
     "name": "stdout",
     "output_type": "stream",
     "text": [
      "2003-07-29T04\n"
     ]
    }
   ],
   "source": [
    "print(dateSanti - np.timedelta64(236,'h'))"
   ]
  }
 ],
 "metadata": {
  "kernelspec": {
   "display_name": "Python 3.10.4 64-bit",
   "language": "python",
   "name": "python3"
  },
  "language_info": {
   "codemirror_mode": {
    "name": "ipython",
    "version": 3
   },
   "file_extension": ".py",
   "mimetype": "text/x-python",
   "name": "python",
   "nbconvert_exporter": "python",
   "pygments_lexer": "ipython3",
   "version": "3.10.4"
  },
  "vscode": {
   "interpreter": {
    "hash": "3ad933181bd8a04b432d3370b9dc3b0662ad032c4dfaa4e4f1596c548f763858"
   }
  }
 },
 "nbformat": 4,
 "nbformat_minor": 5
}
